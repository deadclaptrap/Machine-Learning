{
  "nbformat": 4,
  "nbformat_minor": 0,
  "metadata": {
    "colab": {
      "provenance": []
    },
    "kernelspec": {
      "name": "python3",
      "display_name": "Python 3"
    },
    "language_info": {
      "name": "python"
    }
  },
  "cells": [
    {
      "cell_type": "code",
      "execution_count": null,
      "metadata": {
        "colab": {
          "base_uri": "https://localhost:8080/"
        },
        "id": "-HJsPzInv0No",
        "outputId": "c8625abd-fdba-465c-9264-ce566863bedb"
      },
      "outputs": [
        {
          "output_type": "stream",
          "name": "stdout",
          "text": [
            "Warning: Looks like you're using an outdated `kagglehub` version (installed: 0.3.6), please consider upgrading to the latest version (0.3.8).\n",
            "Downloading from https://www.kaggle.com/api/v1/datasets/download/utkarshx27/one-hundred-plant-species-leaves?dataset_version_number=2...\n"
          ]
        },
        {
          "output_type": "stream",
          "name": "stderr",
          "text": [
            "100%|██████████| 35.3M/35.3M [00:00<00:00, 67.6MB/s]"
          ]
        },
        {
          "output_type": "stream",
          "name": "stdout",
          "text": [
            "Extracting files...\n"
          ]
        },
        {
          "output_type": "stream",
          "name": "stderr",
          "text": [
            "\n"
          ]
        }
      ],
      "source": [
        "import kagglehub\n",
        "\n",
        "# Download latest version\n",
        "path = kagglehub.dataset_download(\"utkarshx27/one-hundred-plant-species-leaves\")"
      ]
    },
    {
      "cell_type": "code",
      "source": [
        "import pandas as pd\n",
        "import numpy as np\n",
        "from google.colab import files\n",
        "uploder = files.upload()"
      ],
      "metadata": {
        "colab": {
          "base_uri": "https://localhost:8080/",
          "height": 71
        },
        "id": "lw9ZIpNwyT0g",
        "outputId": "9afb6b8b-6c1c-4d93-b8db-024d49ff6a65"
      },
      "execution_count": null,
      "outputs": [
        {
          "output_type": "display_data",
          "data": {
            "text/plain": [
              "<IPython.core.display.HTML object>"
            ],
            "text/html": [
              "\n",
              "     <input type=\"file\" id=\"files-b4df5549-daf5-466d-8d34-e19c87e1e4d1\" name=\"files[]\" multiple disabled\n",
              "        style=\"border:none\" />\n",
              "     <output id=\"result-b4df5549-daf5-466d-8d34-e19c87e1e4d1\">\n",
              "      Upload widget is only available when the cell has been executed in the\n",
              "      current browser session. Please rerun this cell to enable.\n",
              "      </output>\n",
              "      <script>// Copyright 2017 Google LLC\n",
              "//\n",
              "// Licensed under the Apache License, Version 2.0 (the \"License\");\n",
              "// you may not use this file except in compliance with the License.\n",
              "// You may obtain a copy of the License at\n",
              "//\n",
              "//      http://www.apache.org/licenses/LICENSE-2.0\n",
              "//\n",
              "// Unless required by applicable law or agreed to in writing, software\n",
              "// distributed under the License is distributed on an \"AS IS\" BASIS,\n",
              "// WITHOUT WARRANTIES OR CONDITIONS OF ANY KIND, either express or implied.\n",
              "// See the License for the specific language governing permissions and\n",
              "// limitations under the License.\n",
              "\n",
              "/**\n",
              " * @fileoverview Helpers for google.colab Python module.\n",
              " */\n",
              "(function(scope) {\n",
              "function span(text, styleAttributes = {}) {\n",
              "  const element = document.createElement('span');\n",
              "  element.textContent = text;\n",
              "  for (const key of Object.keys(styleAttributes)) {\n",
              "    element.style[key] = styleAttributes[key];\n",
              "  }\n",
              "  return element;\n",
              "}\n",
              "\n",
              "// Max number of bytes which will be uploaded at a time.\n",
              "const MAX_PAYLOAD_SIZE = 100 * 1024;\n",
              "\n",
              "function _uploadFiles(inputId, outputId) {\n",
              "  const steps = uploadFilesStep(inputId, outputId);\n",
              "  const outputElement = document.getElementById(outputId);\n",
              "  // Cache steps on the outputElement to make it available for the next call\n",
              "  // to uploadFilesContinue from Python.\n",
              "  outputElement.steps = steps;\n",
              "\n",
              "  return _uploadFilesContinue(outputId);\n",
              "}\n",
              "\n",
              "// This is roughly an async generator (not supported in the browser yet),\n",
              "// where there are multiple asynchronous steps and the Python side is going\n",
              "// to poll for completion of each step.\n",
              "// This uses a Promise to block the python side on completion of each step,\n",
              "// then passes the result of the previous step as the input to the next step.\n",
              "function _uploadFilesContinue(outputId) {\n",
              "  const outputElement = document.getElementById(outputId);\n",
              "  const steps = outputElement.steps;\n",
              "\n",
              "  const next = steps.next(outputElement.lastPromiseValue);\n",
              "  return Promise.resolve(next.value.promise).then((value) => {\n",
              "    // Cache the last promise value to make it available to the next\n",
              "    // step of the generator.\n",
              "    outputElement.lastPromiseValue = value;\n",
              "    return next.value.response;\n",
              "  });\n",
              "}\n",
              "\n",
              "/**\n",
              " * Generator function which is called between each async step of the upload\n",
              " * process.\n",
              " * @param {string} inputId Element ID of the input file picker element.\n",
              " * @param {string} outputId Element ID of the output display.\n",
              " * @return {!Iterable<!Object>} Iterable of next steps.\n",
              " */\n",
              "function* uploadFilesStep(inputId, outputId) {\n",
              "  const inputElement = document.getElementById(inputId);\n",
              "  inputElement.disabled = false;\n",
              "\n",
              "  const outputElement = document.getElementById(outputId);\n",
              "  outputElement.innerHTML = '';\n",
              "\n",
              "  const pickedPromise = new Promise((resolve) => {\n",
              "    inputElement.addEventListener('change', (e) => {\n",
              "      resolve(e.target.files);\n",
              "    });\n",
              "  });\n",
              "\n",
              "  const cancel = document.createElement('button');\n",
              "  inputElement.parentElement.appendChild(cancel);\n",
              "  cancel.textContent = 'Cancel upload';\n",
              "  const cancelPromise = new Promise((resolve) => {\n",
              "    cancel.onclick = () => {\n",
              "      resolve(null);\n",
              "    };\n",
              "  });\n",
              "\n",
              "  // Wait for the user to pick the files.\n",
              "  const files = yield {\n",
              "    promise: Promise.race([pickedPromise, cancelPromise]),\n",
              "    response: {\n",
              "      action: 'starting',\n",
              "    }\n",
              "  };\n",
              "\n",
              "  cancel.remove();\n",
              "\n",
              "  // Disable the input element since further picks are not allowed.\n",
              "  inputElement.disabled = true;\n",
              "\n",
              "  if (!files) {\n",
              "    return {\n",
              "      response: {\n",
              "        action: 'complete',\n",
              "      }\n",
              "    };\n",
              "  }\n",
              "\n",
              "  for (const file of files) {\n",
              "    const li = document.createElement('li');\n",
              "    li.append(span(file.name, {fontWeight: 'bold'}));\n",
              "    li.append(span(\n",
              "        `(${file.type || 'n/a'}) - ${file.size} bytes, ` +\n",
              "        `last modified: ${\n",
              "            file.lastModifiedDate ? file.lastModifiedDate.toLocaleDateString() :\n",
              "                                    'n/a'} - `));\n",
              "    const percent = span('0% done');\n",
              "    li.appendChild(percent);\n",
              "\n",
              "    outputElement.appendChild(li);\n",
              "\n",
              "    const fileDataPromise = new Promise((resolve) => {\n",
              "      const reader = new FileReader();\n",
              "      reader.onload = (e) => {\n",
              "        resolve(e.target.result);\n",
              "      };\n",
              "      reader.readAsArrayBuffer(file);\n",
              "    });\n",
              "    // Wait for the data to be ready.\n",
              "    let fileData = yield {\n",
              "      promise: fileDataPromise,\n",
              "      response: {\n",
              "        action: 'continue',\n",
              "      }\n",
              "    };\n",
              "\n",
              "    // Use a chunked sending to avoid message size limits. See b/62115660.\n",
              "    let position = 0;\n",
              "    do {\n",
              "      const length = Math.min(fileData.byteLength - position, MAX_PAYLOAD_SIZE);\n",
              "      const chunk = new Uint8Array(fileData, position, length);\n",
              "      position += length;\n",
              "\n",
              "      const base64 = btoa(String.fromCharCode.apply(null, chunk));\n",
              "      yield {\n",
              "        response: {\n",
              "          action: 'append',\n",
              "          file: file.name,\n",
              "          data: base64,\n",
              "        },\n",
              "      };\n",
              "\n",
              "      let percentDone = fileData.byteLength === 0 ?\n",
              "          100 :\n",
              "          Math.round((position / fileData.byteLength) * 100);\n",
              "      percent.textContent = `${percentDone}% done`;\n",
              "\n",
              "    } while (position < fileData.byteLength);\n",
              "  }\n",
              "\n",
              "  // All done.\n",
              "  yield {\n",
              "    response: {\n",
              "      action: 'complete',\n",
              "    }\n",
              "  };\n",
              "}\n",
              "\n",
              "scope.google = scope.google || {};\n",
              "scope.google.colab = scope.google.colab || {};\n",
              "scope.google.colab._files = {\n",
              "  _uploadFiles,\n",
              "  _uploadFilesContinue,\n",
              "};\n",
              "})(self);\n",
              "</script> "
            ]
          },
          "metadata": {}
        },
        {
          "output_type": "stream",
          "name": "stdout",
          "text": [
            "Saving data_Mar_64.txt to data_Mar_64.txt\n"
          ]
        }
      ]
    },
    {
      "cell_type": "code",
      "source": [
        "data = pd.read_csv('data_Mar_64.txt', header=None)"
      ],
      "metadata": {
        "id": "c1vaEYO1ygvl"
      },
      "execution_count": null,
      "outputs": []
    },
    {
      "cell_type": "code",
      "source": [
        "X, y_name = np.array(data.iloc[:, 1:]), data.iloc[:, 0]"
      ],
      "metadata": {
        "id": "s1-Q_lKiyxpF"
      },
      "execution_count": null,
      "outputs": []
    },
    {
      "cell_type": "code",
      "source": [
        "from sklearn.preprocessing import LabelEncoder"
      ],
      "metadata": {
        "id": "-CLorfjeyy1U"
      },
      "execution_count": null,
      "outputs": []
    },
    {
      "cell_type": "code",
      "source": [
        "le = LabelEncoder()\n",
        "le.fit(y_name)\n",
        "y = le.transform(y_name)"
      ],
      "metadata": {
        "id": "1z91-pRky75N"
      },
      "execution_count": null,
      "outputs": []
    },
    {
      "cell_type": "code",
      "source": [
        "from sklearn.decomposition import PCA\n",
        "pca = PCA(n_components=2, random_state=0)\n",
        "digits_2d = pca.fit_transform(X)"
      ],
      "metadata": {
        "id": "pgJl3IrvzWXC"
      },
      "execution_count": null,
      "outputs": []
    },
    {
      "cell_type": "code",
      "source": [
        "import matplotlib.pyplot as plt\n",
        "plt.scatter(digits_2d[y[y<15], 0], digits_2d[y[y<15], 1], c=y[y<15])\n",
        "plt.colorbar()\n",
        "plt.show()"
      ],
      "metadata": {
        "colab": {
          "base_uri": "https://localhost:8080/",
          "height": 435
        },
        "id": "RZgxdbMyz1lz",
        "outputId": "cf606458-69e9-49c4-f896-4ce873a24374"
      },
      "execution_count": null,
      "outputs": [
        {
          "output_type": "display_data",
          "data": {
            "text/plain": [
              "<Figure size 640x480 with 2 Axes>"
            ],
            "image/png": "[encoded data removed]"
          },
          "metadata": {}
        }
      ]
    },
    {
      "cell_type": "code",
      "source": [
        "from sklearn.manifold import TSNE"
      ],
      "metadata": {
        "id": "6SPxBfND0V-C"
      },
      "execution_count": null,
      "outputs": []
    },
    {
      "cell_type": "code",
      "source": [
        "tsne = TSNE(n_components=2)"
      ],
      "metadata": {
        "id": "54AGscci039i"
      },
      "execution_count": null,
      "outputs": []
    },
    {
      "cell_type": "code",
      "source": [
        "digits_2dt = tsne.fit_transform(X)\n"
      ],
      "metadata": {
        "id": "zBAeInkI05Nt"
      },
      "execution_count": null,
      "outputs": []
    },
    {
      "cell_type": "code",
      "source": [
        "plt.scatter(digits_2dt[y[y<15], 0], digits_2d[y[y<15], 1], c = y[y<15])\n",
        "plt.colorbar()\n",
        "plt.show()"
      ],
      "metadata": {
        "colab": {
          "base_uri": "https://localhost:8080/",
          "height": 435
        },
        "id": "d9erU7mm0_9q",
        "outputId": "bbed94b4-7b78-4dfa-ac19-4b256f44f51c"
      },
      "execution_count": null,
      "outputs": [
        {
          "output_type": "display_data",
          "data": {
            "text/plain": [
              "<Figure size 640x480 with 2 Axes>"
            ],
            "image/png": "[encoded data removed]"
          },
          "metadata": {}
        }
      ]
    },
    {
      "cell_type": "code",
      "source": [
        "digits_2d[0]"
      ],
      "metadata": {
        "colab": {
          "base_uri": "https://localhost:8080/"
        },
        "id": "t4LNn1ql1E80",
        "outputId": "a551d4b6-5854-4545-8573-68b96710a65c"
      },
      "execution_count": null,
      "outputs": [
        {
          "output_type": "execute_result",
          "data": {
            "text/plain": [
              "array([-0.03307489,  0.02892331])"
            ]
          },
          "metadata": {},
          "execution_count": 20
        }
      ]
    },
    {
      "cell_type": "code",
      "source": [
        "digits_2dt[0]"
      ],
      "metadata": {
        "colab": {
          "base_uri": "https://localhost:8080/"
        },
        "id": "uVPbBEPN1KRu",
        "outputId": "b06d3f2d-458d-4a20-b3cb-c24011e4c975"
      },
      "execution_count": null,
      "outputs": [
        {
          "output_type": "execute_result",
          "data": {
            "text/plain": [
              "array([-7.16365 , 15.494405], dtype=float32)"
            ]
          },
          "metadata": {},
          "execution_count": 21
        }
      ]
    },
    {
      "cell_type": "code",
      "source": [
        "from sklearn.cluster import DBSCAN"
      ],
      "metadata": {
        "id": "6Yyy0m7E1Nv_"
      },
      "execution_count": null,
      "outputs": []
    },
    {
      "cell_type": "code",
      "source": [
        "from sklearn import datasets\n",
        "n_samples = 1000\n",
        "\n",
        "noisy_blobs = datasets.make_blobs(n_samples=n_samples,\n",
        "                             cluster_std=[1.0, 3.0, 0.5],\n",
        "                             random_state=0)"
      ],
      "metadata": {
        "id": "xYy8cWAp2o_T"
      },
      "execution_count": null,
      "outputs": []
    },
    {
      "cell_type": "code",
      "source": [],
      "metadata": {
        "colab": {
          "base_uri": "https://localhost:8080/"
        },
        "id": "zQapuZiN3OtI",
        "outputId": "b3f2ac90-80ab-4590-c423-c623f6e429f0"
      },
      "execution_count": null,
      "outputs": [
        {
          "output_type": "execute_result",
          "data": {
            "text/plain": [
              "array([[-1.16706993,  2.79367261],\n",
              "       [ 1.9263585 ,  4.15243012],\n",
              "       [-1.51353482,  3.00960739],\n",
              "       ...,\n",
              "       [-2.87362836, -0.32055173],\n",
              "       [-2.02992244,  2.50710735],\n",
              "       [-0.78719826,  1.63099403]])"
            ]
          },
          "metadata": {},
          "execution_count": 26
        }
      ]
    },
    {
      "cell_type": "code",
      "source": [
        "dbscan = DBSCAN(eps=0.5)\n",
        "clusters = dbscan.fit_predict(noisy_blobs[0])\n"
      ],
      "metadata": {
        "id": "oNNV48A_257J"
      },
      "execution_count": null,
      "outputs": []
    },
    {
      "cell_type": "code",
      "source": [
        "clusters"
      ],
      "metadata": {
        "colab": {
          "base_uri": "https://localhost:8080/"
        },
        "id": "TzsMnLRv3JBU",
        "outputId": "20fe7da5-baba-48b2-e5fc-2390205b9510"
      },
      "execution_count": null,
      "outputs": [
        {
          "output_type": "execute_result",
          "data": {
            "text/plain": [
              "array([ 0,  0,  0,  0,  0,  0,  0,  0, -1,  0,  0,  0,  0,  0,  0, -1,  0,\n",
              "        6,  0,  0,  0, -1,  0,  0,  0,  0,  0,  0, -1,  1,  0,  0,  0,  0,\n",
              "        0, -1,  0,  0,  2,  0,  0, -1,  0, -1,  0, -1,  0,  0,  0,  0,  0,\n",
              "        0,  3,  0,  0,  0,  4,  0,  0, -1,  0,  0,  0,  0,  0,  0,  0,  5,\n",
              "        0,  0,  0,  0,  0,  0,  0,  0,  0,  0,  0,  0,  0,  0,  0,  0,  0,\n",
              "        0,  0, -1,  0,  0,  0,  0, -1,  0,  0,  0,  0, -1,  0,  0,  0,  0,\n",
              "        0,  8,  0,  0,  0,  0,  1, -1,  0,  0,  0,  2,  0,  0,  0,  0,  0,\n",
              "       -1,  0,  4,  0,  0,  0,  0,  0,  0,  0,  0,  0,  0,  0,  0,  0,  0,\n",
              "        0, -1,  0,  0,  0,  0,  0,  0,  0,  0,  0,  0,  0,  0,  0,  0,  0,\n",
              "        0,  0,  0,  0, -1,  0,  0,  0,  0,  0,  0,  0,  0,  0,  0,  0,  5,\n",
              "        4,  0,  0,  0,  0,  0, -1,  0,  0,  0,  0,  0,  0, -1,  0,  0,  0,\n",
              "        0,  0,  0, -1,  0, -1,  0,  0,  0,  0,  0,  6,  7,  0,  0, -1,  0,\n",
              "        0,  0,  0,  0, -1,  0,  0,  0,  0,  0,  0,  0,  0,  0,  0,  0,  0,\n",
              "        0,  0,  0,  0, -1,  0,  0,  0,  0,  0,  0,  0, -1,  0, -1,  0, -1,\n",
              "        0,  0,  0,  0,  0,  0,  0,  0,  0,  0, -1, -1,  0, -1,  0,  0, -1,\n",
              "        0,  0,  0,  0,  7,  0,  4,  9, -1,  0, -1,  0,  0,  0,  0,  0, -1,\n",
              "        0,  0,  0,  0,  0,  0,  0,  0, -1,  0, -1,  3, -1,  0,  0,  0, -1,\n",
              "        0,  0,  0,  0, -1, -1,  0,  0, -1,  0,  5,  0, -1,  8,  0,  0,  0,\n",
              "        1,  0,  0,  0,  0,  0,  0,  0,  0, -1,  0,  0,  0, -1,  0,  0,  0,\n",
              "        0,  0,  0, -1,  0,  0,  0, -1,  0,  0,  0,  0,  0,  0,  0,  0,  5,\n",
              "        0,  0, -1,  0,  9, -1,  0, -1,  0,  0,  0,  0,  0,  0,  0,  0,  0,\n",
              "        0,  0,  0,  7,  0,  0,  3,  0,  0,  0,  0,  0,  3,  0, -1, -1,  0,\n",
              "        0,  0,  0,  0,  0,  0,  0,  0,  0, -1, -1,  0,  0, -1,  0, 10,  0,\n",
              "        0,  0,  0,  0,  0,  0,  0, -1, -1,  4,  0,  0,  0, -1,  0,  0,  5,\n",
              "        0,  0,  0,  0,  0,  0,  0,  0,  0, -1, -1,  0,  0,  0, -1,  0,  0,\n",
              "        6,  0,  0,  7,  0,  0,  0,  0,  0,  0, -1,  0,  0,  0, -1,  0, -1,\n",
              "        0,  0,  0,  0, -1,  0,  4,  0,  0, -1,  0,  0,  0,  0,  1,  0,  0,\n",
              "        0,  0,  0,  0, -1,  0,  0,  0,  0,  0,  0,  0,  0, -1,  0, -1,  0,\n",
              "        0,  0,  0,  0, -1,  0,  0,  0, -1,  0,  4, -1,  0,  0,  9,  0,  0,\n",
              "        0, -1, -1,  0,  0,  0,  0,  0,  0,  0, -1,  0,  0, -1,  0,  0,  0,\n",
              "        0,  0, -1, -1,  0,  0,  0,  0,  0,  0,  0,  0,  0, -1,  0, -1,  0,\n",
              "       -1,  0,  0, -1,  0,  1,  0,  0,  0,  0,  0,  0,  0,  0,  0, -1,  0,\n",
              "        0,  0,  0,  0, -1,  0,  0, -1,  0,  0,  0,  6,  0,  0,  0,  0,  4,\n",
              "        4,  0,  0,  0, -1, -1, -1,  0,  0,  0, 10,  0, -1, -1,  0,  0, -1,\n",
              "        0,  0, -1,  0,  0, -1,  0,  0,  0,  0, -1,  0,  0,  0,  0,  0, -1,\n",
              "        0,  0,  0,  0,  0,  0, -1,  0,  3,  0,  0,  0,  0,  5,  0,  0,  0,\n",
              "        0,  5,  4,  0,  0,  0,  0,  0,  0,  0,  0,  0,  0,  0, -1,  0,  0,\n",
              "        0,  0,  0,  0,  0,  0,  4,  0, -1,  0,  0, -1,  0,  0,  0,  0,  0,\n",
              "        0,  0,  0,  0,  0,  0,  0,  0,  0, -1,  0,  0,  0,  0,  0,  0,  0,\n",
              "        2,  9,  0,  0,  3,  0,  0,  0, -1,  8,  0,  0,  0, -1,  0,  0,  0,\n",
              "        0,  0,  0,  0,  3,  0,  0,  0,  0,  0,  0,  0,  0,  5, -1,  0,  0,\n",
              "       -1,  0, -1,  0,  0,  0, -1,  0,  0, -1,  0,  0,  0,  0,  0,  0,  0,\n",
              "        5,  2,  0,  0, -1,  0,  0, 10,  9,  0,  5,  0, -1,  0,  0,  0,  0,\n",
              "        5,  0,  0,  0,  0,  0,  0,  1,  0,  0,  0,  0,  0,  1,  0,  0,  0,\n",
              "        0,  0,  0,  0, -1, 10, -1,  0,  0,  0,  0,  0,  6,  0,  0,  0, -1,\n",
              "        6,  0,  0,  0, -1,  0, 10,  0,  0, -1,  0, -1,  0,  0,  0,  6, -1,\n",
              "        0,  0,  0,  0, -1,  0,  0,  0, -1,  0,  0,  0,  0,  0,  0,  0,  0,\n",
              "        0,  0,  0, -1,  3,  0,  0,  0,  0,  0,  0,  0,  0,  0, -1,  0, -1,\n",
              "        0,  0,  0,  0,  0,  0,  0,  0, -1,  0,  0,  0,  0,  0,  0,  0, -1,\n",
              "        0,  0,  0, -1,  0,  0,  0, -1, -1, -1,  0, -1,  0, -1,  0, -1,  0,\n",
              "        0,  2,  0, -1,  0,  0,  0,  0,  0,  0,  0, -1,  0,  0,  0,  0,  0,\n",
              "        0,  0, -1,  0, -1,  8,  0,  0,  0,  3, 10,  0,  0,  0, -1,  0,  0,\n",
              "        0, -1,  0,  0,  0,  0, -1,  0,  0,  0,  0,  0,  0, -1,  0,  0,  0,\n",
              "        2,  8,  0,  6,  0,  0,  0,  0,  0,  2,  0, -1,  0,  0,  0, -1,  0,\n",
              "        0,  3,  0,  0,  0,  0,  0,  0, -1,  0,  0, -1,  0,  0, -1,  0,  5,\n",
              "        0, -1, -1, -1,  0,  0,  0,  0,  0,  0,  4, -1,  0,  0,  0,  0,  0,\n",
              "        0,  0,  3,  0, -1,  0,  0,  0,  0,  0,  0, -1,  0,  0,  0,  3,  0,\n",
              "        0,  4, -1,  0,  0,  0, -1, -1,  0,  1,  0,  0,  0,  0,  0,  0,  8,\n",
              "        0,  0,  0,  0, -1,  0,  0,  0,  0,  0,  0, -1,  0,  0])"
            ]
          },
          "metadata": {},
          "execution_count": 39
        }
      ]
    },
    {
      "cell_type": "code",
      "source": [
        "dbscan.labels_"
      ],
      "metadata": {
        "colab": {
          "base_uri": "https://localhost:8080/"
        },
        "id": "ij9AGLPW3WV6",
        "outputId": "79ce102b-60ff-4884-f6a4-4f239696ce3d"
      },
      "execution_count": null,
      "outputs": [
        {
          "output_type": "execute_result",
          "data": {
            "text/plain": [
              "array([ 0,  0,  0,  0,  0,  0,  0,  0, -1,  0,  0,  0,  0,  0,  0, -1,  0,\n",
              "        6,  0,  0,  0, -1,  0,  0,  0,  0,  0,  0, -1,  1,  0,  0,  0,  0,\n",
              "        0, -1,  0,  0,  2,  0,  0, -1,  0, -1,  0, -1,  0,  0,  0,  0,  0,\n",
              "        0,  3,  0,  0,  0,  4,  0,  0, -1,  0,  0,  0,  0,  0,  0,  0,  5,\n",
              "        0,  0,  0,  0,  0,  0,  0,  0,  0,  0,  0,  0,  0,  0,  0,  0,  0,\n",
              "        0,  0, -1,  0,  0,  0,  0, -1,  0,  0,  0,  0, -1,  0,  0,  0,  0,\n",
              "        0,  8,  0,  0,  0,  0,  1, -1,  0,  0,  0,  2,  0,  0,  0,  0,  0,\n",
              "       -1,  0,  4,  0,  0,  0,  0,  0,  0,  0,  0,  0,  0,  0,  0,  0,  0,\n",
              "        0, -1,  0,  0,  0,  0,  0,  0,  0,  0,  0,  0,  0,  0,  0,  0,  0,\n",
              "        0,  0,  0,  0, -1,  0,  0,  0,  0,  0,  0,  0,  0,  0,  0,  0,  5,\n",
              "        4,  0,  0,  0,  0,  0, -1,  0,  0,  0,  0,  0,  0, -1,  0,  0,  0,\n",
              "        0,  0,  0, -1,  0, -1,  0,  0,  0,  0,  0,  6,  7,  0,  0, -1,  0,\n",
              "        0,  0,  0,  0, -1,  0,  0,  0,  0,  0,  0,  0,  0,  0,  0,  0,  0,\n",
              "        0,  0,  0,  0, -1,  0,  0,  0,  0,  0,  0,  0, -1,  0, -1,  0, -1,\n",
              "        0,  0,  0,  0,  0,  0,  0,  0,  0,  0, -1, -1,  0, -1,  0,  0, -1,\n",
              "        0,  0,  0,  0,  7,  0,  4,  9, -1,  0, -1,  0,  0,  0,  0,  0, -1,\n",
              "        0,  0,  0,  0,  0,  0,  0,  0, -1,  0, -1,  3, -1,  0,  0,  0, -1,\n",
              "        0,  0,  0,  0, -1, -1,  0,  0, -1,  0,  5,  0, -1,  8,  0,  0,  0,\n",
              "        1,  0,  0,  0,  0,  0,  0,  0,  0, -1,  0,  0,  0, -1,  0,  0,  0,\n",
              "        0,  0,  0, -1,  0,  0,  0, -1,  0,  0,  0,  0,  0,  0,  0,  0,  5,\n",
              "        0,  0, -1,  0,  9, -1,  0, -1,  0,  0,  0,  0,  0,  0,  0,  0,  0,\n",
              "        0,  0,  0,  7,  0,  0,  3,  0,  0,  0,  0,  0,  3,  0, -1, -1,  0,\n",
              "        0,  0,  0,  0,  0,  0,  0,  0,  0, -1, -1,  0,  0, -1,  0, 10,  0,\n",
              "        0,  0,  0,  0,  0,  0,  0, -1, -1,  4,  0,  0,  0, -1,  0,  0,  5,\n",
              "        0,  0,  0,  0,  0,  0,  0,  0,  0, -1, -1,  0,  0,  0, -1,  0,  0,\n",
              "        6,  0,  0,  7,  0,  0,  0,  0,  0,  0, -1,  0,  0,  0, -1,  0, -1,\n",
              "        0,  0,  0,  0, -1,  0,  4,  0,  0, -1,  0,  0,  0,  0,  1,  0,  0,\n",
              "        0,  0,  0,  0, -1,  0,  0,  0,  0,  0,  0,  0,  0, -1,  0, -1,  0,\n",
              "        0,  0,  0,  0, -1,  0,  0,  0, -1,  0,  4, -1,  0,  0,  9,  0,  0,\n",
              "        0, -1, -1,  0,  0,  0,  0,  0,  0,  0, -1,  0,  0, -1,  0,  0,  0,\n",
              "        0,  0, -1, -1,  0,  0,  0,  0,  0,  0,  0,  0,  0, -1,  0, -1,  0,\n",
              "       -1,  0,  0, -1,  0,  1,  0,  0,  0,  0,  0,  0,  0,  0,  0, -1,  0,\n",
              "        0,  0,  0,  0, -1,  0,  0, -1,  0,  0,  0,  6,  0,  0,  0,  0,  4,\n",
              "        4,  0,  0,  0, -1, -1, -1,  0,  0,  0, 10,  0, -1, -1,  0,  0, -1,\n",
              "        0,  0, -1,  0,  0, -1,  0,  0,  0,  0, -1,  0,  0,  0,  0,  0, -1,\n",
              "        0,  0,  0,  0,  0,  0, -1,  0,  3,  0,  0,  0,  0,  5,  0,  0,  0,\n",
              "        0,  5,  4,  0,  0,  0,  0,  0,  0,  0,  0,  0,  0,  0, -1,  0,  0,\n",
              "        0,  0,  0,  0,  0,  0,  4,  0, -1,  0,  0, -1,  0,  0,  0,  0,  0,\n",
              "        0,  0,  0,  0,  0,  0,  0,  0,  0, -1,  0,  0,  0,  0,  0,  0,  0,\n",
              "        2,  9,  0,  0,  3,  0,  0,  0, -1,  8,  0,  0,  0, -1,  0,  0,  0,\n",
              "        0,  0,  0,  0,  3,  0,  0,  0,  0,  0,  0,  0,  0,  5, -1,  0,  0,\n",
              "       -1,  0, -1,  0,  0,  0, -1,  0,  0, -1,  0,  0,  0,  0,  0,  0,  0,\n",
              "        5,  2,  0,  0, -1,  0,  0, 10,  9,  0,  5,  0, -1,  0,  0,  0,  0,\n",
              "        5,  0,  0,  0,  0,  0,  0,  1,  0,  0,  0,  0,  0,  1,  0,  0,  0,\n",
              "        0,  0,  0,  0, -1, 10, -1,  0,  0,  0,  0,  0,  6,  0,  0,  0, -1,\n",
              "        6,  0,  0,  0, -1,  0, 10,  0,  0, -1,  0, -1,  0,  0,  0,  6, -1,\n",
              "        0,  0,  0,  0, -1,  0,  0,  0, -1,  0,  0,  0,  0,  0,  0,  0,  0,\n",
              "        0,  0,  0, -1,  3,  0,  0,  0,  0,  0,  0,  0,  0,  0, -1,  0, -1,\n",
              "        0,  0,  0,  0,  0,  0,  0,  0, -1,  0,  0,  0,  0,  0,  0,  0, -1,\n",
              "        0,  0,  0, -1,  0,  0,  0, -1, -1, -1,  0, -1,  0, -1,  0, -1,  0,\n",
              "        0,  2,  0, -1,  0,  0,  0,  0,  0,  0,  0, -1,  0,  0,  0,  0,  0,\n",
              "        0,  0, -1,  0, -1,  8,  0,  0,  0,  3, 10,  0,  0,  0, -1,  0,  0,\n",
              "        0, -1,  0,  0,  0,  0, -1,  0,  0,  0,  0,  0,  0, -1,  0,  0,  0,\n",
              "        2,  8,  0,  6,  0,  0,  0,  0,  0,  2,  0, -1,  0,  0,  0, -1,  0,\n",
              "        0,  3,  0,  0,  0,  0,  0,  0, -1,  0,  0, -1,  0,  0, -1,  0,  5,\n",
              "        0, -1, -1, -1,  0,  0,  0,  0,  0,  0,  4, -1,  0,  0,  0,  0,  0,\n",
              "        0,  0,  3,  0, -1,  0,  0,  0,  0,  0,  0, -1,  0,  0,  0,  3,  0,\n",
              "        0,  4, -1,  0,  0,  0, -1, -1,  0,  1,  0,  0,  0,  0,  0,  0,  8,\n",
              "        0,  0,  0,  0, -1,  0,  0,  0,  0,  0,  0, -1,  0,  0])"
            ]
          },
          "metadata": {},
          "execution_count": 33
        }
      ]
    },
    {
      "cell_type": "code",
      "source": [
        "bool_arr = (clusters == -1)\n",
        "count = np.count_nonzero(bool_arr)\n",
        "print(count)"
      ],
      "metadata": {
        "colab": {
          "base_uri": "https://localhost:8080/"
        },
        "id": "j8Bnsbzg3qLn",
        "outputId": "ae1a1571-a98c-4e95-89c6-c9c01422a94d"
      },
      "execution_count": null,
      "outputs": [
        {
          "output_type": "stream",
          "name": "stdout",
          "text": [
            "152\n"
          ]
        }
      ]
    },
    {
      "cell_type": "code",
      "source": [
        "from sklearn.metrics import pairwise_distances_argmin\n",
        "from math import dist\n",
        "class MyKMeans():\n",
        "  def __init__(self, n_clusters=3, n_iters = 100):\n",
        "    self.n_clusters = n_clusters\n",
        "    self.n_iters = n_iters\n",
        "  def fit(self, X):\n",
        "    np.random.seed(0)\n",
        "    self.centers = list(np.random.uniform(low=X.min(axis = 0)[1],\n",
        "                                high=X.max(axis = 0)[0],\n",
        "                                size=(self.n_clusters, X.shape[1])))\n",
        "\n",
        "    for it in range(self.n_iters):\n",
        "\n",
        "      ## your code here\n",
        "      closest_center = []\n",
        "\n",
        "      for x in X:\n",
        "        cc = np.random.uniform(low=X.min(axis = 0)[1],\n",
        "                                high=X.max(axis = 0)[0],\n",
        "                                size=(2)) # координата ближайшего центра\n",
        "        cl =10000 #расстоние до ближ. центра\n",
        "        for c in self.centers:\n",
        "          if (dist(x, c) < cl):\n",
        "            cc =c\n",
        "            cl = dist(x, c)\n",
        "        closest_center.append(cc)\n",
        "      new_centers=[]\n",
        "\n",
        "      for c in self.centers:\n",
        "        sum = [0, 0]\n",
        "        counter = 0\n",
        "        for i in range(X.shape[1]-1):\n",
        "          if c.all() == closest_center[i].all():\n",
        "            sum += X[i]\n",
        "            counter +=1\n",
        "        sum = sum/counter\n",
        "        new_centers.append(sum)\n",
        "\n",
        "\n",
        "      if (self.centers.all() == new_centers):\n",
        "          break\n",
        "\n",
        "      self.centers = new_centers\n",
        "\n",
        "\n",
        "  def predict(self, X):\n",
        "    labels = pairwise_distances_argmin(X, self.centers)\n",
        "    return labels"
      ],
      "metadata": {
        "id": "wD5rKKi_4GQH"
      },
      "execution_count": null,
      "outputs": []
    },
    {
      "cell_type": "code",
      "source": [
        "from sklearn import datasets\n",
        "n_samples = 1000\n",
        "\n",
        "noisy_blobs = datasets.make_blobs(n_samples=n_samples,\n",
        "                             cluster_std=[1.0, 3.0, 0.5],\n",
        "                             random_state=0)"
      ],
      "metadata": {
        "id": "S1yumX_0AgxK"
      },
      "execution_count": null,
      "outputs": []
    },
    {
      "cell_type": "code",
      "source": [
        "X, y = noisy_blobs\n",
        "#print(min(X, key=lambda x:x[0]))\n",
        "#print(X.min(axis = 0))\n",
        "#print(X.max(axis = 0))"
      ],
      "metadata": {
        "id": "JNst78RIAizF"
      },
      "execution_count": null,
      "outputs": []
    },
    {
      "cell_type": "code",
      "source": [
        "knn = MyKMeans()\n",
        "knn.fit(X)"
      ],
      "metadata": {
        "colab": {
          "base_uri": "https://localhost:8080/",
          "height": 280
        },
        "id": "yeThLGniAmEz",
        "outputId": "19d279a4-9893-4530-8ce9-da8a6251d4f4"
      },
      "execution_count": null,
      "outputs": [
        {
          "output_type": "error",
          "ename": "AttributeError",
          "evalue": "'list' object has no attribute 'all'",
          "traceback": [
            "\u001b[0;31m---------------------------------------------------------------------------\u001b[0m",
            "\u001b[0;31mAttributeError\u001b[0m                            Traceback (most recent call last)",
            "\u001b[0;32m<ipython-input-120-a3f4af7548da>\u001b[0m in \u001b[0;36m<cell line: 0>\u001b[0;34m()\u001b[0m\n\u001b[1;32m      1\u001b[0m \u001b[0mknn\u001b[0m \u001b[0;34m=\u001b[0m \u001b[0mMyKMeans\u001b[0m\u001b[0;34m(\u001b[0m\u001b[0;34m)\u001b[0m\u001b[0;34m\u001b[0m\u001b[0;34m\u001b[0m\u001b[0m\n\u001b[0;32m----> 2\u001b[0;31m \u001b[0mknn\u001b[0m\u001b[0;34m.\u001b[0m\u001b[0mfit\u001b[0m\u001b[0;34m(\u001b[0m\u001b[0mX\u001b[0m\u001b[0;34m)\u001b[0m\u001b[0;34m\u001b[0m\u001b[0;34m\u001b[0m\u001b[0m\n\u001b[0m",
            "\u001b[0;32m<ipython-input-118-7a9df1643a36>\u001b[0m in \u001b[0;36mfit\u001b[0;34m(self, X)\u001b[0m\n\u001b[1;32m     39\u001b[0m \u001b[0;34m\u001b[0m\u001b[0m\n\u001b[1;32m     40\u001b[0m \u001b[0;34m\u001b[0m\u001b[0m\n\u001b[0;32m---> 41\u001b[0;31m       \u001b[0;32mif\u001b[0m \u001b[0;34m(\u001b[0m\u001b[0mself\u001b[0m\u001b[0;34m.\u001b[0m\u001b[0mcenters\u001b[0m\u001b[0;34m.\u001b[0m\u001b[0mall\u001b[0m\u001b[0;34m(\u001b[0m\u001b[0;34m)\u001b[0m \u001b[0;34m==\u001b[0m \u001b[0mnew_centers\u001b[0m\u001b[0;34m)\u001b[0m\u001b[0;34m:\u001b[0m\u001b[0;34m\u001b[0m\u001b[0;34m\u001b[0m\u001b[0m\n\u001b[0m\u001b[1;32m     42\u001b[0m           \u001b[0;32mbreak\u001b[0m\u001b[0;34m\u001b[0m\u001b[0;34m\u001b[0m\u001b[0m\n\u001b[1;32m     43\u001b[0m \u001b[0;34m\u001b[0m\u001b[0m\n",
            "\u001b[0;31mAttributeError\u001b[0m: 'list' object has no attribute 'all'"
          ]
        }
      ]
    },
    {
      "cell_type": "code",
      "source": [
        "X =[2, 3, 4, 5]\n",
        "c= np.random.uniform(\n",
        "                                size=5)\n",
        "closest_center = np.random.uniform(\n",
        "                                size=1)\n",
        "c[1] = closest_center\n",
        "c[2] =closest_center\n",
        "sum = sum(X[closest_center[closest_center == c]])\n",
        "sum"
      ],
      "metadata": {
        "colab": {
          "base_uri": "https://localhost:8080/",
          "height": 263
        },
        "id": "GeTRHEmE4JpB",
        "outputId": "c5c8194b-1efa-40e4-bd42-ccb46de97e3b"
      },
      "execution_count": null,
      "outputs": [
        {
          "output_type": "stream",
          "name": "stderr",
          "text": [
            "<ipython-input-76-b5c213749936>:6: DeprecationWarning: Conversion of an array with ndim > 0 to a scalar is deprecated, and will error in future. Ensure you extract a single element from your array before performing this operation. (Deprecated NumPy 1.25.)\n",
            "  c[1] = closest_center\n",
            "<ipython-input-76-b5c213749936>:7: DeprecationWarning: Conversion of an array with ndim > 0 to a scalar is deprecated, and will error in future. Ensure you extract a single element from your array before performing this operation. (Deprecated NumPy 1.25.)\n",
            "  c[2] =closest_center\n"
          ]
        },
        {
          "output_type": "error",
          "ename": "IndexError",
          "evalue": "boolean index did not match indexed array along dimension 0; dimension is 1 but corresponding boolean dimension is 5",
          "traceback": [
            "\u001b[0;31m---------------------------------------------------------------------------\u001b[0m",
            "\u001b[0;31mIndexError\u001b[0m                                Traceback (most recent call last)",
            "\u001b[0;32m<ipython-input-76-b5c213749936>\u001b[0m in \u001b[0;36m<cell line: 0>\u001b[0;34m()\u001b[0m\n\u001b[1;32m      6\u001b[0m \u001b[0mc\u001b[0m\u001b[0;34m[\u001b[0m\u001b[0;36m1\u001b[0m\u001b[0;34m]\u001b[0m \u001b[0;34m=\u001b[0m \u001b[0mclosest_center\u001b[0m\u001b[0;34m\u001b[0m\u001b[0;34m\u001b[0m\u001b[0m\n\u001b[1;32m      7\u001b[0m \u001b[0mc\u001b[0m\u001b[0;34m[\u001b[0m\u001b[0;36m2\u001b[0m\u001b[0;34m]\u001b[0m \u001b[0;34m=\u001b[0m\u001b[0mclosest_center\u001b[0m\u001b[0;34m\u001b[0m\u001b[0;34m\u001b[0m\u001b[0m\n\u001b[0;32m----> 8\u001b[0;31m \u001b[0msum\u001b[0m \u001b[0;34m=\u001b[0m \u001b[0msum\u001b[0m\u001b[0;34m(\u001b[0m\u001b[0mX\u001b[0m\u001b[0;34m[\u001b[0m\u001b[0mclosest_center\u001b[0m\u001b[0;34m[\u001b[0m\u001b[0mclosest_center\u001b[0m \u001b[0;34m==\u001b[0m \u001b[0mc\u001b[0m\u001b[0;34m]\u001b[0m\u001b[0;34m]\u001b[0m\u001b[0;34m)\u001b[0m\u001b[0;34m\u001b[0m\u001b[0;34m\u001b[0m\u001b[0m\n\u001b[0m\u001b[1;32m      9\u001b[0m \u001b[0msum\u001b[0m\u001b[0;34m\u001b[0m\u001b[0;34m\u001b[0m\u001b[0m\n",
            "\u001b[0;31mIndexError\u001b[0m: boolean index did not match indexed array along dimension 0; dimension is 1 but corresponding boolean dimension is 5"
          ]
        }
      ]
    },
    {
      "cell_type": "code",
      "source": [],
      "metadata": {
        "id": "uEBeZWOx-qrq"
      },
      "execution_count": null,
      "outputs": []
    }
  ]
}